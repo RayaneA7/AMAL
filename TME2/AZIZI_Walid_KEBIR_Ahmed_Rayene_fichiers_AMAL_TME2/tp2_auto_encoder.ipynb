{
 "cells": [
  {
   "cell_type": "code",
   "execution_count": 1,
   "metadata": {},
   "outputs": [],
   "source": [
    "from sklearn.datasets import fetch_openml\n",
    "DATA_PATH='.'\n",
    "x , y = fetch_openml('mnist_784', return_X_y=True , as_frame=False , data_home=DATA_PATH)"
   ]
  },
  {
   "cell_type": "code",
   "execution_count": 4,
   "metadata": {},
   "outputs": [],
   "source": [
    "import torch\n",
    "\n",
    "# device = 'mps'\n",
    "x = torch.tensor(x/255, dtype=torch.float32)\n",
    "y = torch.tensor(y.astype(int), dtype=torch.long)"
   ]
  },
  {
   "cell_type": "code",
   "execution_count": 5,
   "metadata": {},
   "outputs": [],
   "source": [
    "import torch\n",
    "import torch.nn as nn\n",
    "import torch.optim as optim\n",
    "import torchvision\n",
    "import torchvision.transforms as transforms\n",
    "from torch.utils.data import DataLoader\n",
    "import matplotlib.pyplot as plt\n",
    "\n",
    "class Autoencoder(nn.Module):\n",
    "    def __init__(self, input_size, hidden_size):\n",
    "        super(Autoencoder, self).__init__()\n",
    "        self.encoder = nn.Linear(input_size, hidden_size)\n",
    "        self.relu = nn.ReLU()\n",
    "        self.decoder = nn.Linear(hidden_size, input_size)\n",
    "        self.decoder.weight.data = (\n",
    "            self.encoder.weight.data.t()\n",
    "        )\n",
    "        self.sigmoid = nn.Sigmoid()\n",
    "\n",
    "    def forward(self, x):\n",
    "\n",
    "        encoded = self.relu(self.encoder(x))\n",
    "        decoded = self.sigmoid(self.decoder(encoded))\n",
    "        return decoded\n"
   ]
  },
  {
   "cell_type": "code",
   "execution_count": 6,
   "metadata": {},
   "outputs": [
    {
     "name": "stdout",
     "output_type": "stream",
     "text": [
      "Epoch [1/30], Loss: 0.0281\n",
      "Epoch [2/30], Loss: 0.0160\n",
      "Epoch [3/30], Loss: 0.0160\n",
      "Epoch [4/30], Loss: 0.0135\n",
      "Epoch [5/30], Loss: 0.0138\n",
      "Epoch [6/30], Loss: 0.0094\n",
      "Epoch [7/30], Loss: 0.0089\n",
      "Epoch [8/30], Loss: 0.0081\n",
      "Epoch [9/30], Loss: 0.0059\n",
      "Epoch [10/30], Loss: 0.0057\n",
      "Epoch [11/30], Loss: 0.0059\n",
      "Epoch [12/30], Loss: 0.0055\n",
      "Epoch [13/30], Loss: 0.0054\n",
      "Epoch [14/30], Loss: 0.0048\n",
      "Epoch [15/30], Loss: 0.0046\n",
      "Epoch [16/30], Loss: 0.0057\n",
      "Epoch [17/30], Loss: 0.0044\n",
      "Epoch [18/30], Loss: 0.0053\n",
      "Epoch [19/30], Loss: 0.0052\n",
      "Epoch [20/30], Loss: 0.0055\n",
      "Epoch [21/30], Loss: 0.0048\n",
      "Epoch [22/30], Loss: 0.0056\n",
      "Epoch [23/30], Loss: 0.0054\n",
      "Epoch [24/30], Loss: 0.0057\n",
      "Epoch [25/30], Loss: 0.0052\n",
      "Epoch [26/30], Loss: 0.0042\n",
      "Epoch [27/30], Loss: 0.0049\n",
      "Epoch [28/30], Loss: 0.0050\n",
      "Epoch [29/30], Loss: 0.0049\n",
      "Epoch [30/30], Loss: 0.0046\n"
     ]
    }
   ],
   "source": [
    "transform = transforms.Compose([transforms.ToTensor()]) \n",
    "\n",
    "train_dataset = torchvision.datasets.MNIST(root='./data', train=True, transform=transform, download=True)\n",
    "train_loader = DataLoader(dataset=train_dataset, batch_size=64, shuffle=True)\n",
    "\n",
    "test_dataset = torchvision.datasets.MNIST(root='./data', train=False, transform=transform, download=True)\n",
    "test_loader = DataLoader(dataset=test_dataset, batch_size=10, shuffle=False)\n",
    "\n",
    "input_size = 28 * 28  \n",
    "hidden_size = 64\n",
    "\n",
    "autoencoder = Autoencoder(input_size, hidden_size)\n",
    "optimizer = optim.Adam(autoencoder.parameters(), lr=0.001)\n",
    "criterion = nn.MSELoss()\n",
    "\n",
    "\n",
    "num_epochs = 30\n",
    "\n",
    "for epoch in range(num_epochs):\n",
    "    for images, _ in train_loader:\n",
    "        inputs = images.view(-1, input_size)\n",
    "        \n",
    "        outputs = autoencoder(inputs)\n",
    "        \n",
    "        loss = criterion(outputs, inputs)\n",
    "        \n",
    "    \n",
    "        optimizer.zero_grad()\n",
    "        loss.backward()\n",
    "        optimizer.step()\n",
    "        \n",
    "    print(f'Epoch [{epoch+1}/{num_epochs}], Loss: {loss.item():.4f}')\n",
    "\n",
    "torch.save(autoencoder.state_dict(), 'autoencoder_mnist.pth')"
   ]
  },
  {
   "cell_type": "code",
   "execution_count": 7,
   "metadata": {},
   "outputs": [
    {
     "data": {
      "image/png": "[encoded data removed]",
      "text/plain": [
       "<Figure size 1000x400 with 10 Axes>"
      ]
     },
     "metadata": {},
     "output_type": "display_data"
    }
   ],
   "source": [
    "import torchvision\n",
    "import matplotlib.pyplot as plt\n",
    "\n",
    "def test_autoencoder():\n",
    "    autoencoder.eval()\n",
    "\n",
    "    with torch.no_grad():\n",
    "        for images, _ in test_loader:\n",
    "            inputs = images.view(-1, input_size)\n",
    "            outputs = autoencoder(inputs)\n",
    "\n",
    "            outputs = outputs.view(-1, 1, 28, 28)\n",
    "\n",
    "            fig, axes = plt.subplots(2, 5, figsize=(10, 4))\n",
    "\n",
    "            for i in range(5):\n",
    "                axes[0, i].imshow(images[i].view(28, 28), cmap='gray')\n",
    "                axes[0, i].axis('off')\n",
    "                axes[0, i].set_title('Original')\n",
    "\n",
    "            for i in range(5):\n",
    "                axes[1, i].imshow(outputs[i].view(28, 28), cmap='gray')\n",
    "                axes[1, i].axis('off')\n",
    "                axes[1, i].set_title('Reconstructed')\n",
    "\n",
    "            plt.tight_layout()\n",
    "            plt.show()\n",
    "            break\n",
    "\n",
    "test_autoencoder()"
   ]
  }
 ],
 "metadata": {
  "kernelspec": {
   "display_name": "deepdac",
   "language": "python",
   "name": "python3"
  },
  "language_info": {
   "codemirror_mode": {
    "name": "ipython",
    "version": 3
   },
   "file_extension": ".py",
   "mimetype": "text/x-python",
   "name": "python",
   "nbconvert_exporter": "python",
   "pygments_lexer": "ipython3",
   "version": "3.9.19"
  }
 },
 "nbformat": 4,
 "nbformat_minor": 2
}
